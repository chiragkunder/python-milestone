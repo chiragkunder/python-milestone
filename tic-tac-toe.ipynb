{
 "cells": [
  {
   "cell_type": "code",
   "execution_count": 15,
   "metadata": {},
   "outputs": [],
   "source": [
    "def display_board(board):\n",
    "    patterns = {1: \" {} | {} | {} \", 2: \"-----------\"}     \n",
    "    \n",
    "    print(patterns[1].format(board[7],board[8],board[9]))\n",
    "    print(patterns[2]) \n",
    "    print(patterns[1].format(board[4],board[5],board[6]))\n",
    "    print(patterns[2]) \n",
    "    print(patterns[1].format(board[1],board[2],board[3])) "
   ]
  },
  {
   "cell_type": "code",
   "execution_count": 16,
   "metadata": {},
   "outputs": [],
   "source": [
    "def game_setup():\n",
    "    markerInput = \"\"\n",
    "    \n",
    "    while not (markerInput == \"X\" or markerInput == \"O\"): \n",
    "        markerInput = input(\"Player 1: Do you want to be X or O?\").upper()\n",
    "        \n",
    "    if markerInput == \"X\":\n",
    "        return (\"X\", \"O\")\n",
    "    else:\n",
    "        return (\"O\", \"X\") "
   ]
  },
  {
   "cell_type": "code",
   "execution_count": 17,
   "metadata": {},
   "outputs": [],
   "source": [
    "def get_user_postion_input(board, player):\n",
    "    position = 0\n",
    "    \n",
    "    while position not in [1,2,3,4,5,6,7,8,9] or not is_already_filled(board, position):\n",
    "        display_board(board)\n",
    "        print(\"\\n\")\n",
    "        position = int(input(f\"Player {player}: Choose position.\")) \n",
    "        print(\"\\n\")\n",
    "         \n",
    "    return position"
   ]
  },
  {
   "cell_type": "code",
   "execution_count": 18,
   "metadata": {},
   "outputs": [],
   "source": [
    "def is_game_won(board, marker):\n",
    "    winning_combinations = [(1,2,3), (1,5,9), (1,4,7), (2,5,8), (3,6,9), (3,5,7), (4, 5, 6), (7,8,9)]\n",
    "    for (i, j, k) in winning_combinations:\n",
    "        if board[i] == marker and board[j] == marker and board[k] == marker:\n",
    "            return True\n",
    "        else:\n",
    "            continue\n",
    "    \n",
    "    return False\n"
   ]
  },
  {
   "cell_type": "code",
   "execution_count": 19,
   "metadata": {},
   "outputs": [],
   "source": [
    "def is_board_filled(board):\n",
    "    return \" \" not in board"
   ]
  },
  {
   "cell_type": "code",
   "execution_count": 20,
   "metadata": {},
   "outputs": [],
   "source": [
    "from random import randint\n",
    "\n",
    "def choose_first_player():\n",
    "    return randint(1,2)"
   ]
  },
  {
   "cell_type": "code",
   "execution_count": 21,
   "metadata": {},
   "outputs": [],
   "source": [
    "def place_marker_on_board(board, marker, position):\n",
    "    board[position] = marker"
   ]
  },
  {
   "cell_type": "code",
   "execution_count": 22,
   "metadata": {},
   "outputs": [],
   "source": [
    "def is_already_filled(board, position):\n",
    "    return board[position] == \" \""
   ]
  },
  {
   "cell_type": "code",
   "execution_count": 23,
   "metadata": {},
   "outputs": [],
   "source": [
    "def choose_player_marker(player, player1Marker, player2Marker):\n",
    "    if player == 1:\n",
    "        return player1Marker\n",
    "    else:\n",
    "        return player2Marker"
   ]
  },
  {
   "cell_type": "code",
   "execution_count": 24,
   "metadata": {},
   "outputs": [],
   "source": [
    "def replay():\n",
    "    return input('Do you want to play again? Enter Yes or No: ').lower().startswith('y')"
   ]
  },
  {
   "cell_type": "code",
   "execution_count": null,
   "metadata": {},
   "outputs": [],
   "source": [
    "import time\n",
    "\n",
    "def playTicTacToe():\n",
    "    print(\"Welcome to Tic Tac Toe.\\n\")\n",
    "\n",
    "    while True:\n",
    "        board = ['#',' ',' ',' ',' ',' ',' ',' ',' ',' ']\n",
    "        player1Marker, player2Marker = game_setup()\n",
    "        print(f\"Player 1: {player1Marker}\")\n",
    "        print(f\"Player 2: {player2Marker}\\n\")   \n",
    "\n",
    "        print(\"-------------------------------\")\n",
    "        print(\"Rolling the dice to select first player...\\n\")\n",
    "        turn = choose_first_player()\n",
    "        time.sleep(2) \n",
    "        print(f\"Player {turn} will start first.\")\n",
    "        print(\"-------------------------------\\n\")\n",
    "        gameOn = True\n",
    "\n",
    "        while gameOn:         \n",
    "            position = get_user_postion_input(board, turn)\n",
    "            choosen_marker = choose_player_marker(turn, player1Marker, player2Marker)\n",
    "            place_marker_on_board(board, choosen_marker, position) \n",
    "            if is_game_won(board, choosen_marker):\n",
    "                print(f\"\\nCongrats Player {turn}. You Won!\")\n",
    "                gameOn = False\n",
    "            else:\n",
    "                if is_board_filled(board):\n",
    "                    print(f\"\\nGame draw!\\n\")\n",
    "                    gameOn = False\n",
    "                else:\n",
    "                    if turn == 1:\n",
    "                        turn = 2\n",
    "                    else:\n",
    "                        turn = 1\n",
    "\n",
    "\n",
    "        if not replay():\n",
    "            break;"
   ]
  },
  {
   "cell_type": "code",
   "execution_count": null,
   "metadata": {},
   "outputs": [
    {
     "name": "stdout",
     "output_type": "stream",
     "text": [
      "Welcome to Tic Tac Toe.\n",
      "\n"
     ]
    },
    {
     "name": "stdin",
     "output_type": "stream",
     "text": [
      "Player 1: Do you want to be X or O? O\n"
     ]
    },
    {
     "name": "stdout",
     "output_type": "stream",
     "text": [
      "Player 1: O\n",
      "Player 2: X\n",
      "\n",
      "-------------------------------\n",
      "Rolling the dice to select first player...\n",
      "\n",
      "Player 2 will start first.\n",
      "-------------------------------\n",
      "\n",
      "   |   |   \n",
      "-----------\n",
      "   |   |   \n",
      "-----------\n",
      "   |   |   \n",
      "\n",
      "\n"
     ]
    },
    {
     "name": "stdin",
     "output_type": "stream",
     "text": [
      "Player 2: Choose position. 3\n"
     ]
    },
    {
     "name": "stdout",
     "output_type": "stream",
     "text": [
      "\n",
      "\n",
      "   |   |   \n",
      "-----------\n",
      "   |   |   \n",
      "-----------\n",
      "   |   | X \n",
      "\n",
      "\n"
     ]
    },
    {
     "name": "stdin",
     "output_type": "stream",
     "text": [
      "Player 1: Choose position. 1\n"
     ]
    },
    {
     "name": "stdout",
     "output_type": "stream",
     "text": [
      "\n",
      "\n",
      "   |   |   \n",
      "-----------\n",
      "   |   |   \n",
      "-----------\n",
      " O |   | X \n",
      "\n",
      "\n"
     ]
    },
    {
     "name": "stdin",
     "output_type": "stream",
     "text": [
      "Player 2: Choose position. 5\n"
     ]
    },
    {
     "name": "stdout",
     "output_type": "stream",
     "text": [
      "\n",
      "\n",
      "   |   |   \n",
      "-----------\n",
      "   | X |   \n",
      "-----------\n",
      " O |   | X \n",
      "\n",
      "\n"
     ]
    },
    {
     "name": "stdin",
     "output_type": "stream",
     "text": [
      "Player 1: Choose position. 1\n"
     ]
    },
    {
     "name": "stdout",
     "output_type": "stream",
     "text": [
      "\n",
      "\n",
      "   |   |   \n",
      "-----------\n",
      "   | X |   \n",
      "-----------\n",
      " O |   | X \n",
      "\n",
      "\n"
     ]
    },
    {
     "name": "stdin",
     "output_type": "stream",
     "text": [
      "Player 1: Choose position. 5\n"
     ]
    },
    {
     "name": "stdout",
     "output_type": "stream",
     "text": [
      "\n",
      "\n",
      "   |   |   \n",
      "-----------\n",
      "   | X |   \n",
      "-----------\n",
      " O |   | X \n",
      "\n",
      "\n"
     ]
    },
    {
     "name": "stdin",
     "output_type": "stream",
     "text": [
      "Player 1: Choose position. 6\n"
     ]
    },
    {
     "name": "stdout",
     "output_type": "stream",
     "text": [
      "\n",
      "\n",
      "   |   |   \n",
      "-----------\n",
      "   | X | O \n",
      "-----------\n",
      " O |   | X \n",
      "\n",
      "\n"
     ]
    },
    {
     "name": "stdin",
     "output_type": "stream",
     "text": [
      "Player 2: Choose position. 4\n"
     ]
    },
    {
     "name": "stdout",
     "output_type": "stream",
     "text": [
      "\n",
      "\n",
      "   |   |   \n",
      "-----------\n",
      " X | X | O \n",
      "-----------\n",
      " O |   | X \n",
      "\n",
      "\n"
     ]
    },
    {
     "name": "stdin",
     "output_type": "stream",
     "text": [
      "Player 1: Choose position. 1\n"
     ]
    },
    {
     "name": "stdout",
     "output_type": "stream",
     "text": [
      "\n",
      "\n",
      "   |   |   \n",
      "-----------\n",
      " X | X | O \n",
      "-----------\n",
      " O |   | X \n",
      "\n",
      "\n"
     ]
    },
    {
     "name": "stdin",
     "output_type": "stream",
     "text": [
      "Player 1: Choose position. 6\n"
     ]
    },
    {
     "name": "stdout",
     "output_type": "stream",
     "text": [
      "\n",
      "\n",
      "   |   |   \n",
      "-----------\n",
      " X | X | O \n",
      "-----------\n",
      " O |   | X \n",
      "\n",
      "\n"
     ]
    },
    {
     "name": "stdin",
     "output_type": "stream",
     "text": [
      "Player 1: Choose position. 8\n"
     ]
    },
    {
     "name": "stdout",
     "output_type": "stream",
     "text": [
      "\n",
      "\n",
      "   | O |   \n",
      "-----------\n",
      " X | X | O \n",
      "-----------\n",
      " O |   | X \n",
      "\n",
      "\n"
     ]
    },
    {
     "name": "stdin",
     "output_type": "stream",
     "text": [
      "Player 2: Choose position. 3\n"
     ]
    },
    {
     "name": "stdout",
     "output_type": "stream",
     "text": [
      "\n",
      "\n",
      "   | O |   \n",
      "-----------\n",
      " X | X | O \n",
      "-----------\n",
      " O |   | X \n",
      "\n",
      "\n"
     ]
    },
    {
     "name": "stdin",
     "output_type": "stream",
     "text": [
      "Player 2: Choose position. 2\n"
     ]
    },
    {
     "name": "stdout",
     "output_type": "stream",
     "text": [
      "\n",
      "\n",
      "   | O |   \n",
      "-----------\n",
      " X | X | O \n",
      "-----------\n",
      " O | X | X \n",
      "\n",
      "\n"
     ]
    },
    {
     "name": "stdin",
     "output_type": "stream",
     "text": [
      "Player 1: Choose position. 7\n"
     ]
    },
    {
     "name": "stdout",
     "output_type": "stream",
     "text": [
      "\n",
      "\n",
      " O | O |   \n",
      "-----------\n",
      " X | X | O \n",
      "-----------\n",
      " O | X | X \n",
      "\n",
      "\n"
     ]
    },
    {
     "name": "stdin",
     "output_type": "stream",
     "text": [
      "Player 2: Choose position. 9\n"
     ]
    },
    {
     "name": "stdout",
     "output_type": "stream",
     "text": [
      "\n",
      "\n",
      "\n",
      "Game draw!\n",
      " O | O | X \n",
      "-----------\n",
      " X | X | O \n",
      "-----------\n",
      " O | X | X \n",
      "\n",
      "\n"
     ]
    }
   ],
   "source": [
    "playTicTacToe()"
   ]
  },
  {
   "cell_type": "code",
   "execution_count": null,
   "metadata": {},
   "outputs": [],
   "source": []
  }
 ],
 "metadata": {
  "kernelspec": {
   "display_name": "Python 3",
   "language": "python",
   "name": "python3"
  },
  "language_info": {
   "codemirror_mode": {
    "name": "ipython",
    "version": 3
   },
   "file_extension": ".py",
   "mimetype": "text/x-python",
   "name": "python",
   "nbconvert_exporter": "python",
   "pygments_lexer": "ipython3",
   "version": "3.7.6"
  }
 },
 "nbformat": 4,
 "nbformat_minor": 4
}
